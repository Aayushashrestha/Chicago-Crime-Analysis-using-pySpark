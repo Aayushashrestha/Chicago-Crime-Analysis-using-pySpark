{
 "cells": [
  {
   "cell_type": "markdown",
   "metadata": {
    "colab": {},
    "colab_type": "code",
    "id": "jUYFZRkSRxgs"
   },
   "source": [
    "The data preprocessing phase.\n",
    "---\n",
    "\n",
    "After data collection, we cleaned the data since our data set was quite imbalance and had a lot of features. We dropped inull values and rrelevant features such as ID, Case, Number, FBI code, Updated On, ICUR, X and Y Coordinates, Location and Description. There were 34 distinct types of crimes and we dropped those crimes we thought were not very significant. Similar types of crime such as sexual assault, prostitution and sex offenses were mierged together. Hence after preprocessing the primary crime types dropped from 35 to 18. A new csv file was created after pre-processing for analysis.\n",
    "\n",
    "Download the dataset from link  https://data.cityofchicago.org/Public-Safety/Crimes-2001-to-Present/ijzp-q8t2\n",
    "\n",
    "and place in dataset folder.\n",
    "\n"
   ]
  },
  {
   "cell_type": "code",
   "execution_count": 1,
   "metadata": {
    "colab": {},
    "colab_type": "code",
    "id": "C8tx_u3XSvMA"
   },
   "outputs": [
    {
     "name": "stderr",
     "output_type": "stream",
     "text": [
      "WARNING: An illegal reflective access operation has occurred\n",
      "WARNING: Illegal reflective access by org.apache.spark.unsafe.Platform (file:/home/simon/anaconda3/lib/python3.9/site-packages/pyspark/jars/spark-unsafe_2.12-3.2.1.jar) to constructor java.nio.DirectByteBuffer(long,int)\n",
      "WARNING: Please consider reporting this to the maintainers of org.apache.spark.unsafe.Platform\n",
      "WARNING: Use --illegal-access=warn to enable warnings of further illegal reflective access operations\n",
      "WARNING: All illegal access operations will be denied in a future release\n",
      "Using Spark's default log4j profile: org/apache/spark/log4j-defaults.properties\n",
      "Setting default log level to \"WARN\".\n",
      "To adjust logging level use sc.setLogLevel(newLevel). For SparkR, use setLogLevel(newLevel).\n",
      "23/04/12 16:45:32 WARN NativeCodeLoader: Unable to load native-hadoop library for your platform... using builtin-java classes where applicable\n",
      "23/04/12 16:45:32 WARN Utils: Service 'SparkUI' could not bind on port 4040. Attempting port 4041.\n"
     ]
    }
   ],
   "source": [
    "import findspark\n",
    "findspark.init()\n",
    "from pyspark.sql import SparkSession\n",
    "spark = SparkSession.builder.master(\"local[*]\").getOrCreate()"
   ]
  },
  {
   "cell_type": "code",
   "execution_count": 2,
   "metadata": {
    "colab": {},
    "colab_type": "code",
    "id": "0wkWEhgTS4R5"
   },
   "outputs": [],
   "source": [
    "#spark imports\n",
    "from pyspark import SparkContext\n",
    "from pyspark.sql import SparkSession\n",
    "from pyspark.sql import DataFrame\n",
    "import csv\n",
    "from pyspark.sql.types import *\n",
    "from pyspark.sql.functions import format_number, when\n",
    "import pyspark.sql.functions as F"
   ]
  },
  {
   "cell_type": "code",
   "execution_count": 3,
   "metadata": {
    "colab": {
     "base_uri": "https://localhost:8080/",
     "height": 71
    },
    "colab_type": "code",
    "id": "WWW1sQ_SmnHR",
    "outputId": "2b7bc3a1-93dd-4a2b-e3b5-9fbae13e142e"
   },
   "outputs": [],
   "source": [
    "import pandas as pd\n",
    "import matplotlib.pyplot as plt\n",
    "import seaborn as sns\n",
    "import numpy as np\n",
    "\n",
    "from sklearn.model_selection import train_test_split, cross_val_score\n",
    "from sklearn.neighbors import KNeighborsClassifier\n",
    "from sklearn import metrics\n",
    "from sklearn.preprocessing import StandardScaler\n",
    "from sklearn.preprocessing import LabelEncoder"
   ]
  },
  {
   "cell_type": "code",
   "execution_count": null,
   "metadata": {
    "colab": {
     "base_uri": "https://localhost:8080/",
     "height": 34
    },
    "colab_type": "code",
    "id": "a_IJuPcoiMeW",
    "outputId": "f6fe7ed8-863f-4138-ddf4-02560318dd1e"
   },
   "outputs": [],
   "source": []
  },
  {
   "cell_type": "code",
   "execution_count": 4,
   "metadata": {
    "colab": {},
    "colab_type": "code",
    "id": "lcLNCc297NzQ"
   },
   "outputs": [],
   "source": [
    "#change RAM allocation, current = 20GB\n",
    "#change Core allocation, current = 3 Cores\n",
    "\n",
    "spark = SparkSession.builder.appName(\"Project - Chicago crime\")\\\n",
    ".config(\"spark.some.config.option\", \"some-value\")\\\n",
    ".config(\"spark.driver.memory\", \"16g\")\\\n",
    ".config(\"spark.driver.cores\", '3')\\f\n",
    ".getOrCreate()\n",
    "\n"
   ]
  },
  {
   "cell_type": "code",
   "execution_count": null,
   "metadata": {
    "colab": {
     "base_uri": "https://localhost:8080/",
     "height": 34
    },
    "colab_type": "code",
    "id": "u8jAl4MDzplO",
    "outputId": "b655e987-af95-448d-bc54-a28c18b52ae1"
   },
   "outputs": [],
   "source": []
  },
  {
   "cell_type": "code",
   "execution_count": 5,
   "metadata": {
    "colab": {},
    "colab_type": "code",
    "id": "VhnN28da7YZm"
   },
   "outputs": [],
   "source": [
    "crimes_schema = StructType([StructField(\"ID\", IntegerType(), True),\n",
    "                            StructField(\"Case Number\", StringType(), True),\n",
    "                            StructField(\"Date\", StringType(), True ),\n",
    "                            StructField(\"Block\", StringType(), True),\n",
    "                            StructField(\"IUCR\", StringType(), True),\n",
    "                            StructField(\"Primary Type\", StringType(), True  ),\n",
    "                            StructField(\"Description\", StringType(), True ),\n",
    "                            StructField(\"Location Description\", StringType(), True ),\n",
    "                            StructField(\"Arrest\", BooleanType(), True),\n",
    "                            StructField(\"Domestic\", BooleanType(), True),\n",
    "                            StructField(\"Beat\", IntegerType(), True),\n",
    "                            StructField(\"District\", IntegerType(), True),\n",
    "                            StructField(\"Ward\", IntegerType(), True),\n",
    "                            StructField(\"Community Area\", IntegerType(), True),\n",
    "                            StructField(\"FBI Code\", StringType(), True ),\n",
    "                            StructField(\"X Coordinate\", IntegerType(), True),\n",
    "                            StructField(\"Y Coordinate\", IntegerType(), True ),\n",
    "                            StructField(\"Year\", IntegerType(), True),\n",
    "                            StructField(\"Updated On\", StringType(), True ),\n",
    "                            StructField(\"Latitude\", DoubleType(), True),\n",
    "                            StructField(\"Longitude\", DoubleType(), True),\n",
    "                            StructField(\"Location\", StringType(), True )\n",
    "                            ])"
   ]
  },
  {
   "cell_type": "code",
   "execution_count": 6,
   "metadata": {
    "colab": {},
    "colab_type": "code",
    "id": "cpuUJg3qTuBr"
   },
   "outputs": [],
   "source": [
    "data = spark.read.csv('Dataset/Crimes_-_2001_to_Present.csv',header = True,schema = crimes_schema)"
   ]
  },
  {
   "cell_type": "code",
   "execution_count": 7,
   "metadata": {},
   "outputs": [
    {
     "name": "stderr",
     "output_type": "stream",
     "text": [
      "\r",
      "[Stage 0:>                                                        (0 + 16) / 16]\r"
     ]
    },
    {
     "name": "stdout",
     "output_type": "stream",
     "text": [
      "22\n"
     ]
    },
    {
     "name": "stderr",
     "output_type": "stream",
     "text": [
      "\r",
      "                                                                                \r"
     ]
    }
   ],
   "source": [
    "data.count()\n",
    "print(len(data.columns))"
   ]
  },
  {
   "cell_type": "code",
   "execution_count": 8,
   "metadata": {
    "colab": {
     "base_uri": "https://localhost:8080/",
     "height": 122
    },
    "colab_type": "code",
    "id": "NYi4kEyjj9Lm",
    "outputId": "5f275b2e-b5f5-4206-8979-cbb623686238"
   },
   "outputs": [
    {
     "data": {
      "text/plain": [
       "[Row(ID=10224738, Case Number='HY411648', Date='09/05/2015 01:30:00 PM', Block='043XX S WOOD ST', IUCR='0486', Primary Type='BATTERY', Description='DOMESTIC BATTERY SIMPLE', Location Description='RESIDENCE', Arrest=False, Domestic=True, Beat=924, District=9, Ward=12, Community Area=61, FBI Code='08B', X Coordinate=1165074, Y Coordinate=1875917, Year=2015, Updated On='02/10/2018 03:50:01 PM', Latitude=41.815117282, Longitude=-87.669999562, Location='(41.815117282, -87.669999562)'),\n",
       " Row(ID=10224739, Case Number='HY411615', Date='09/04/2015 11:30:00 AM', Block='008XX N CENTRAL AVE', IUCR='0870', Primary Type='THEFT', Description='POCKET-PICKING', Location Description='CTA BUS', Arrest=False, Domestic=False, Beat=1511, District=15, Ward=29, Community Area=25, FBI Code='06', X Coordinate=1138875, Y Coordinate=1904869, Year=2015, Updated On='02/10/2018 03:50:01 PM', Latitude=41.895080471, Longitude=-87.765400451, Location='(41.895080471, -87.765400451)'),\n",
       " Row(ID=11646166, Case Number='JC213529', Date='09/01/2018 12:01:00 AM', Block='082XX S INGLESIDE AVE', IUCR='0810', Primary Type='THEFT', Description='OVER $500', Location Description='RESIDENCE', Arrest=False, Domestic=True, Beat=631, District=6, Ward=8, Community Area=44, FBI Code='06', X Coordinate=None, Y Coordinate=None, Year=2018, Updated On='04/06/2019 04:04:43 PM', Latitude=None, Longitude=None, Location=None),\n",
       " Row(ID=10224740, Case Number='HY411595', Date='09/05/2015 12:45:00 PM', Block='035XX W BARRY AVE', IUCR='2023', Primary Type='NARCOTICS', Description='POSS: HEROIN(BRN/TAN)', Location Description='SIDEWALK', Arrest=True, Domestic=False, Beat=1412, District=14, Ward=35, Community Area=21, FBI Code='18', X Coordinate=1152037, Y Coordinate=1920384, Year=2015, Updated On='02/10/2018 03:50:01 PM', Latitude=41.937405765, Longitude=-87.716649687, Location='(41.937405765, -87.716649687)'),\n",
       " Row(ID=10224741, Case Number='HY411610', Date='09/05/2015 01:00:00 PM', Block='0000X N LARAMIE AVE', IUCR='0560', Primary Type='ASSAULT', Description='SIMPLE', Location Description='APARTMENT', Arrest=False, Domestic=True, Beat=1522, District=15, Ward=28, Community Area=25, FBI Code='08A', X Coordinate=1141706, Y Coordinate=1900086, Year=2015, Updated On='02/10/2018 03:50:01 PM', Latitude=41.881903443, Longitude=-87.755121152, Location='(41.881903443, -87.755121152)')]"
      ]
     },
     "execution_count": 8,
     "metadata": {},
     "output_type": "execute_result"
    }
   ],
   "source": [
    "data.head(5)"
   ]
  },
  {
   "cell_type": "markdown",
   "metadata": {
    "colab_type": "text",
    "id": "nHKAbOgD9PqE"
   },
   "source": [
    "# Data preprocessing - Spark"
   ]
  },
  {
   "cell_type": "markdown",
   "metadata": {
    "colab_type": "text",
    "id": "BzaC4w6y_We0"
   },
   "source": [
    "**Working on data starting 2010.**"
   ]
  },
  {
   "cell_type": "code",
   "execution_count": 9,
   "metadata": {
    "colab": {},
    "colab_type": "code",
    "id": "rkCO4QYi_QIk"
   },
   "outputs": [],
   "source": [
    "\n",
    "# dataset = data.filter((data['Year'] >2015 & (data['Year'] !=2020))\n",
    "\n",
    "dataset = data.filter((data['Year'] > 2009))"
   ]
  },
  {
   "cell_type": "code",
   "execution_count": 10,
   "metadata": {
    "colab": {},
    "colab_type": "code",
    "id": "iITWfMSF9KI0"
   },
   "outputs": [],
   "source": [
    "#dropping columns which non-relative \n",
    "\n",
    "dataset = dataset.drop('ID')\n",
    "dataset = dataset.drop('Case Number')\n",
    "dataset = dataset.drop('FBI Code')\n",
    "dataset = dataset.drop('Updated On')\n",
    "dataset = dataset.drop('IUCR')# Could be useful - four digit codes that law enforcement agencies use to classify criminal incidents when taking individual reports.\n",
    "dataset = dataset.drop('X Coordinate')\n",
    "dataset = dataset.drop('Y Coordinate')\n",
    "dataset = dataset.drop('Location')\n",
    "dataset = dataset.drop('Description')\n",
    "dataset = dataset.drop('Domestic')"
   ]
  },
  {
   "cell_type": "markdown",
   "metadata": {
    "colab_type": "text",
    "id": "EWasgSY39ZFc"
   },
   "source": [
    "**Preprocessing Primary types**"
   ]
  },
  {
   "cell_type": "code",
   "execution_count": 11,
   "metadata": {
    "colab": {
     "base_uri": "https://localhost:8080/",
     "height": 459
    },
    "colab_type": "code",
    "id": "vCIRD2StyWiN",
    "outputId": "8202414d-3bd9-428c-80e7-3c180464015f"
   },
   "outputs": [
    {
     "name": "stderr",
     "output_type": "stream",
     "text": [
      "[Stage 4:===================================>                     (10 + 6) / 16]\r"
     ]
    },
    {
     "name": "stdout",
     "output_type": "stream",
     "text": [
      "+--------------------+------+\n",
      "|        Primary Type| count|\n",
      "+--------------------+------+\n",
      "|               THEFT|817930|\n",
      "|             BATTERY|666649|\n",
      "|     CRIMINAL DAMAGE|398114|\n",
      "|           NARCOTICS|276442|\n",
      "|             ASSAULT|256070|\n",
      "|       OTHER OFFENSE|224836|\n",
      "|  DECEPTIVE PRACTICE|217237|\n",
      "|            BURGLARY|194661|\n",
      "| MOTOR VEHICLE THEFT|176903|\n",
      "|             ROBBERY|141008|\n",
      "|   CRIMINAL TRESPASS| 87936|\n",
      "|   WEAPONS VIOLATION| 68915|\n",
      "|OFFENSE INVOLVING...| 30589|\n",
      "|PUBLIC PEACE VIOL...| 26815|\n",
      "|        PROSTITUTION| 15383|\n",
      "|         SEX OFFENSE| 14537|\n",
      "| CRIM SEXUAL ASSAULT| 13556|\n",
      "|INTERFERENCE WITH...| 13395|\n",
      "|            HOMICIDE|  7751|\n",
      "|CRIMINAL SEXUAL A...|  6150|\n",
      "+--------------------+------+\n",
      "only showing top 20 rows\n",
      "\n"
     ]
    },
    {
     "name": "stderr",
     "output_type": "stream",
     "text": [
      "\r",
      "                                                                                \r"
     ]
    }
   ],
   "source": [
    "primaryCount = dataset.groupby('Primary Type').count()\n",
    "primaryCount.orderBy('count', ascending=False).show()"
   ]
  },
  {
   "cell_type": "code",
   "execution_count": 12,
   "metadata": {
    "colab": {},
    "colab_type": "code",
    "id": "Vb9FYC51Y24_"
   },
   "outputs": [
    {
     "name": "stderr",
     "output_type": "stream",
     "text": [
      "[Stage 7:=============================>                            (8 + 8) / 16]\r"
     ]
    },
    {
     "name": "stdout",
     "output_type": "stream",
     "text": [
      "Distinct primary types 35\n"
     ]
    },
    {
     "name": "stderr",
     "output_type": "stream",
     "text": [
      "\r",
      "                                                                                \r"
     ]
    }
   ],
   "source": [
    "print('Distinct primary types '+ str(primaryCount.distinct().count()))"
   ]
  },
  {
   "cell_type": "markdown",
   "metadata": {
    "colab_type": "text",
    "id": "XSkptdhjABdF"
   },
   "source": [
    "**Drop crimes which are not so significant**"
   ]
  },
  {
   "cell_type": "code",
   "execution_count": 13,
   "metadata": {
    "colab": {},
    "colab_type": "code",
    "id": "ILpR-ndCMdp2"
   },
   "outputs": [],
   "source": [
    "dataset = dataset.filter((dataset['Primary Type']!='STALKING')&\n",
    "                             (dataset['Primary Type']!='OBSCENITY')&\n",
    "                             (dataset['Primary Type']!='NON-CRIMINAL (SUBJECT SPECIFIED)')&\n",
    "                             (dataset['Primary Type']!='GAMBLING')&\n",
    "                             (dataset['Primary Type']!='NON - CRIMINAL')&\n",
    "                             (dataset['Primary Type']!='LIQUOR LAW VIOLATION')&\n",
    "                             (dataset['Primary Type']!='PUBLIC INDECENCY')&\n",
    "                             (dataset['Primary Type']!='HUMAN TRAFFICKING')&\n",
    "                             (dataset['Primary Type']!='INTIMIDATION')&\n",
    "                             (dataset['Primary Type']!='CONCEALED CARRY LICENSE VIOLATION')&\n",
    "                             (dataset['Primary Type']!='NON-CRIMINAL')&\n",
    "                             (dataset['Primary Type']!='OTHER NARCOTIC VIOLATION'))"
   ]
  },
  {
   "cell_type": "markdown",
   "metadata": {
    "colab_type": "text",
    "id": "w6l0-AN8AffY"
   },
   "source": [
    "**Merging similar crime types**"
   ]
  },
  {
   "cell_type": "code",
   "execution_count": 14,
   "metadata": {
    "colab": {},
    "colab_type": "code",
    "id": "0Wf6mmo6Md4N"
   },
   "outputs": [
    {
     "name": "stdout",
     "output_type": "stream",
     "text": [
      "+--------------------+--------------------+------------+--------------------+------+----+--------+----+--------------+----+------------+-------------+\n",
      "|                Date|               Block|Primary Type|Location Description|Arrest|Beat|District|Ward|Community Area|Year|    Latitude|    Longitude|\n",
      "+--------------------+--------------------+------------+--------------------+------+----+--------+----+--------------+----+------------+-------------+\n",
      "|09/05/2015 01:30:...|     043XX S WOOD ST|     BATTERY|           RESIDENCE| false| 924|       9|  12|            61|2015|41.815117282|-87.669999562|\n",
      "|09/04/2015 11:30:...| 008XX N CENTRAL AVE|       THEFT|             CTA BUS| false|1511|      15|  29|            25|2015|41.895080471|-87.765400451|\n",
      "|09/01/2018 12:01:...|082XX S INGLESIDE...|       THEFT|           RESIDENCE| false| 631|       6|   8|            44|2018|        null|         null|\n",
      "|09/05/2015 12:45:...|   035XX W BARRY AVE|   NARCOTICS|            SIDEWALK|  true|1412|      14|  35|            21|2015|41.937405765|-87.716649687|\n",
      "|09/05/2015 01:00:...| 0000X N LARAMIE AVE|     ASSAULT|           APARTMENT| false|1522|      15|  28|            25|2015|41.881903443|-87.755121152|\n",
      "+--------------------+--------------------+------------+--------------------+------+----+--------+----+--------------+----+------------+-------------+\n",
      "only showing top 5 rows\n",
      "\n"
     ]
    }
   ],
   "source": [
    "dataset = dataset.withColumn(\"Primary Type\", \\\n",
    "                               when((dataset[\"Primary Type\"] == 'CRIM SEXUAL ASSAULT') | \\\n",
    "                                    (dataset[\"Primary Type\"] == 'PROSTITUTION') ,'SEX OFFENSE').otherwise(dataset['Primary Type']))\n",
    "dataset=dataset.withColumn(\"Primary Type\", \\\n",
    "                               when((dataset[\"Primary Type\"] == 'WEAPONS VIOLATION') | \\\n",
    "                                    (dataset[\"Primary Type\"] == 'INTERFERENCE WITH PUBLIC OFFICER') ,'PUBLIC PEACE VIOLATION').otherwise(dataset['Primary Type']))\n",
    "dataset=dataset.withColumn(\"Primary Type\", \\\n",
    "                               when((dataset[\"Primary Type\"] == 'ARSON') ,'CRIMINAL TRESPASS').otherwise(dataset['Primary Type']))\n",
    "\n",
    "dataset.show(5)"
   ]
  },
  {
   "cell_type": "code",
   "execution_count": 15,
   "metadata": {
    "colab": {
     "base_uri": "https://localhost:8080/",
     "height": 391
    },
    "colab_type": "code",
    "id": "ryT1U91lMeD8",
    "outputId": "864f6914-80ad-499e-cb00-873147524dbb"
   },
   "outputs": [
    {
     "name": "stderr",
     "output_type": "stream",
     "text": [
      "[Stage 14:===================================>                    (10 + 6) / 16]\r"
     ]
    },
    {
     "name": "stdout",
     "output_type": "stream",
     "text": [
      "+--------------------+------+\n",
      "|        Primary Type| count|\n",
      "+--------------------+------+\n",
      "|               THEFT|817930|\n",
      "|             BATTERY|666649|\n",
      "|     CRIMINAL DAMAGE|398114|\n",
      "|           NARCOTICS|276442|\n",
      "|             ASSAULT|256070|\n",
      "|       OTHER OFFENSE|224836|\n",
      "|  DECEPTIVE PRACTICE|217237|\n",
      "|            BURGLARY|194661|\n",
      "| MOTOR VEHICLE THEFT|176903|\n",
      "|             ROBBERY|141008|\n",
      "|PUBLIC PEACE VIOL...|109125|\n",
      "|   CRIMINAL TRESPASS| 93977|\n",
      "|         SEX OFFENSE| 43476|\n",
      "|OFFENSE INVOLVING...| 30589|\n",
      "|            HOMICIDE|  7751|\n",
      "|CRIMINAL SEXUAL A...|  6150|\n",
      "|          KIDNAPPING|  2548|\n",
      "|           RITUALISM|     1|\n",
      "+--------------------+------+\n",
      "\n"
     ]
    },
    {
     "name": "stderr",
     "output_type": "stream",
     "text": [
      "\r",
      "                                                                                \r"
     ]
    }
   ],
   "source": [
    "primaryCount = dataset.groupby('Primary Type').count()\n",
    "primaryCount.orderBy('count', ascending=False).show()"
   ]
  },
  {
   "cell_type": "code",
   "execution_count": 17,
   "metadata": {
    "colab": {
     "base_uri": "https://localhost:8080/",
     "height": 34
    },
    "colab_type": "code",
    "id": "omiJd6kJZxkD",
    "outputId": "09f1457d-4f27-4d66-8242-f6c9ac05950c"
   },
   "outputs": [
    {
     "name": "stderr",
     "output_type": "stream",
     "text": [
      "[Stage 23:================================>                        (9 + 7) / 16]\r"
     ]
    },
    {
     "name": "stdout",
     "output_type": "stream",
     "text": [
      "Distinct primary types after preprocessing 18\n"
     ]
    },
    {
     "name": "stderr",
     "output_type": "stream",
     "text": [
      "\r",
      "                                                                                \r"
     ]
    }
   ],
   "source": [
    "print('Distinct primary types after preprocessing '+ str(primaryCount.distinct().count()))"
   ]
  },
  {
   "cell_type": "markdown",
   "metadata": {
    "colab_type": "text",
    "id": "TQayyfY-BLlZ"
   },
   "source": [
    "**Extract Day, Month, Week from Date Column**"
   ]
  },
  {
   "cell_type": "code",
   "execution_count": 65,
   "metadata": {
    "colab": {
     "base_uri": "https://localhost:8080/",
     "height": 122
    },
    "colab_type": "code",
    "id": "okDarpGxBKln",
    "outputId": "d84a21fe-8e82-41eb-b0d4-c3c7cd7f7eb5"
   },
   "outputs": [
    {
     "data": {
      "text/plain": [
       "[Row(Date='03/17/2020 09:30:00 PM', Block='039XX N LECLAIRE AVE', Primary Type='THEFT', Location Description='STREET', Arrest=False, Beat=1634, District=16, Ward=45, Community Area=15, Year=2020, Latitude=41.952051946, Longitude=-87.754660372, Day=datetime.date(2020, 3, 17), Month=3, WeekDay=3),\n",
       " Row(Date='09/24/2019 08:00:00 AM', Block='022XX S MICHIGAN AVE', Primary Type='DECEPTIVE PRACTICE', Location Description='COMMERCIAL / BUSINESS OFFICE', Arrest=False, Beat=132, District=1, Ward=3, Community Area=33, Year=2019, Latitude=41.852248185, Longitude=-87.623786256, Day=datetime.date(2019, 9, 24), Month=9, WeekDay=3),\n",
       " Row(Date='10/13/2019 08:30:00 PM', Block='024XX W CHICAGO AVE', Primary Type='THEFT', Location Description='GROCERY FOOD STORE', Arrest=False, Beat=1221, District=12, Ward=26, Community Area=24, Year=2019, Latitude=41.895732399, Longitude=-87.687784384, Day=datetime.date(2019, 10, 13), Month=10, WeekDay=1),\n",
       " Row(Date='03/18/2020 02:03:00 AM', Block='039XX W JACKSON BLVD', Primary Type='MOTOR VEHICLE THEFT', Location Description='APARTMENT', Arrest=False, Beat=1132, District=11, Ward=28, Community Area=26, Year=2020, Latitude=41.877110187, Longitude=-87.723989719, Day=datetime.date(2020, 3, 18), Month=3, WeekDay=4),\n",
       " Row(Date='10/05/2019 06:30:00 PM', Block='0000X N LOOMIS ST', Primary Type='THEFT', Location Description='RESIDENCE', Arrest=False, Beat=1224, District=12, Ward=27, Community Area=28, Year=2019, Latitude=41.88200224, Longitude=-87.662286977, Day=datetime.date(2019, 10, 5), Month=10, WeekDay=7)]"
      ]
     },
     "execution_count": 65,
     "metadata": {},
     "output_type": "execute_result"
    }
   ],
   "source": [
    "dataset = dataset.withColumn(\"Day\", F.split(dataset.Date, \" \")[0])\n",
    "dataset = dataset.withColumn(\"Day\", F.to_date(dataset.Day, \"MM/dd/yyyy\"))\n",
    "dataset = dataset.withColumn(\"Month\", F.month(dataset.Day))\n",
    "dataset = dataset.withColumn(\"WeekDay\", F.dayofweek(dataset.Day))\n",
    "dataset = dataset.withColumn(\"Year\", F.year(dataset.Day))\n",
    "dataset = dataset.na.drop()\n",
    "\n",
    "#dataset = dataset.drop('Day')\n",
    "#dataset = dataset.drop('Date')\n",
    "dataset.head(5)"
   ]
  },
  {
   "cell_type": "markdown",
   "metadata": {
    "colab_type": "text",
    "id": "fRffsVR8Dq98"
   },
   "source": [
    "Ignore Latitude and Longitude outside Chichago"
   ]
  },
  {
   "cell_type": "code",
   "execution_count": 66,
   "metadata": {
    "colab": {},
    "colab_type": "code",
    "id": "APNhYAHODp_h"
   },
   "outputs": [],
   "source": [
    "dataset=dataset\\\n",
    "        .filter((dataset[\"Latitude\"] < 45)\n",
    "             & (dataset[\"Latitude\"] > 40)\n",
    "             & (dataset[\"Longitude\"] < -85)\n",
    "             & (dataset[\"Longitude\"] > -90))"
   ]
  },
  {
   "cell_type": "markdown",
   "metadata": {
    "colab_type": "text",
    "id": "4-cNdSzQC4Ip"
   },
   "source": [
    "**Dropping Null values in the data.**"
   ]
  },
  {
   "cell_type": "code",
   "execution_count": 67,
   "metadata": {},
   "outputs": [
    {
     "data": {
      "text/plain": [
       "[Row(Date='03/17/2020 09:30:00 PM', Block='039XX N LECLAIRE AVE', Primary Type='THEFT', Location Description='STREET', Arrest=False, Beat=1634, District=16, Ward=45, Community Area=15, Year=2020, Latitude=41.952051946, Longitude=-87.754660372, Day=datetime.date(2020, 3, 17), Month=3, WeekDay=3),\n",
       " Row(Date='09/24/2019 08:00:00 AM', Block='022XX S MICHIGAN AVE', Primary Type='DECEPTIVE PRACTICE', Location Description='COMMERCIAL / BUSINESS OFFICE', Arrest=False, Beat=132, District=1, Ward=3, Community Area=33, Year=2019, Latitude=41.852248185, Longitude=-87.623786256, Day=datetime.date(2019, 9, 24), Month=9, WeekDay=3),\n",
       " Row(Date='10/13/2019 08:30:00 PM', Block='024XX W CHICAGO AVE', Primary Type='THEFT', Location Description='GROCERY FOOD STORE', Arrest=False, Beat=1221, District=12, Ward=26, Community Area=24, Year=2019, Latitude=41.895732399, Longitude=-87.687784384, Day=datetime.date(2019, 10, 13), Month=10, WeekDay=1),\n",
       " Row(Date='03/18/2020 02:03:00 AM', Block='039XX W JACKSON BLVD', Primary Type='MOTOR VEHICLE THEFT', Location Description='APARTMENT', Arrest=False, Beat=1132, District=11, Ward=28, Community Area=26, Year=2020, Latitude=41.877110187, Longitude=-87.723989719, Day=datetime.date(2020, 3, 18), Month=3, WeekDay=4),\n",
       " Row(Date='10/05/2019 06:30:00 PM', Block='0000X N LOOMIS ST', Primary Type='THEFT', Location Description='RESIDENCE', Arrest=False, Beat=1224, District=12, Ward=27, Community Area=28, Year=2019, Latitude=41.88200224, Longitude=-87.662286977, Day=datetime.date(2019, 10, 5), Month=10, WeekDay=7)]"
      ]
     },
     "execution_count": 67,
     "metadata": {},
     "output_type": "execute_result"
    }
   ],
   "source": [
    "dataset.head(5)"
   ]
  },
  {
   "cell_type": "code",
   "execution_count": 68,
   "metadata": {},
   "outputs": [
    {
     "name": "stderr",
     "output_type": "stream",
     "text": [
      "                                                                                \r"
     ]
    },
    {
     "data": {
      "text/plain": [
       "942357"
      ]
     },
     "execution_count": 68,
     "metadata": {},
     "output_type": "execute_result"
    }
   ],
   "source": [
    "dataset.count()"
   ]
  },
  {
   "cell_type": "code",
   "execution_count": null,
   "metadata": {},
   "outputs": [],
   "source": []
  },
  {
   "cell_type": "code",
   "execution_count": 69,
   "metadata": {
    "colab": {},
    "colab_type": "code",
    "id": "XTe8B8MJC2AS"
   },
   "outputs": [],
   "source": [
    "dataset=dataset.na.drop()"
   ]
  },
  {
   "cell_type": "code",
   "execution_count": 70,
   "metadata": {},
   "outputs": [
    {
     "name": "stderr",
     "output_type": "stream",
     "text": [
      "                                                                                \r"
     ]
    }
   ],
   "source": [
    "dataset.repartition(1).write.csv('pre_processed_data',mode=\"append\",header=True)"
   ]
  },
  {
   "cell_type": "code",
   "execution_count": null,
   "metadata": {},
   "outputs": [],
   "source": []
  }
 ],
 "metadata": {
  "accelerator": "GPU",
  "colab": {
   "collapsed_sections": [
    "EOV6WxSrCZa6"
   ],
   "machine_shape": "hm",
   "name": "KNN-final.ipynb",
   "provenance": [],
   "toc_visible": true
  },
  "kernelspec": {
   "display_name": "Python 3 (ipykernel)",
   "language": "python",
   "name": "python3"
  },
  "language_info": {
   "codemirror_mode": {
    "name": "ipython",
    "version": 3
   },
   "file_extension": ".py",
   "mimetype": "text/x-python",
   "name": "python",
   "nbconvert_exporter": "python",
   "pygments_lexer": "ipython3",
   "version": "3.9.13"
  }
 },
 "nbformat": 4,
 "nbformat_minor": 1
}
